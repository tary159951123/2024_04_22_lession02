{
 "cells": [
  {
   "cell_type": "code",
   "execution_count": null,
   "metadata": {},
   "outputs": [],
   "source": [
    "#0~180~220\n",
    "scores = int(input(\"請輸入學生分數(最高300分)\"))\n",
    "if scores >= 220:\n",
    "    print(\"優\")\n",
    "else:\n",
    "    if scores >= 180:\n",
    "        print(\"甲\")\n",
    "    else:\n",
    "        print(\"不及格\")"
   ]
  },
  {
   "cell_type": "code",
   "execution_count": null,
   "metadata": {},
   "outputs": [],
   "source": [
    "\n",
    "#0~180~220\n",
    "scores = int(input(\"請輸入學生分數(最高300分)\"))\n",
    "\n",
    "#多項選擇,3個只會執行其中一個\n",
    "if scores >= 220:\n",
    "    print(\"優\")\n",
    "elif scores >= 180:\n",
    "    print(\"甲\")\n",
    "else:\n",
    "    print(\"不及格\")"
   ]
  },
  {
   "cell_type": "code",
   "execution_count": null,
   "metadata": {},
   "outputs": [],
   "source": [
    "#90(含)~100分為「優」\n",
    "#80(含)~89分為「甲」\n",
    "#70(含)~79分為「乙」\n",
    "#60(含)~69分為「丙」\n",
    "#0(含)~59分為「丁」\n",
    "score = int(input(\"請輸入學生分數:\"))\n",
    "\n",
    "if score<60:\n",
    "    grade = '丁'\n",
    "elif score<70:\n",
    "    grade = '丙'\n",
    "elif score<80:\n",
    "    grade = '乙'\n",
    "elif score<90:\n",
    "    grade = '甲'\n",
    "else:\n",
    "    grade = '優'\n",
    "\n",
    "print(grade)"
   ]
  },
  {
   "cell_type": "code",
   "execution_count": null,
   "metadata": {},
   "outputs": [],
   "source": [
    "try:\n",
    "    name = input('請輸入姓名:')\n",
    "    height = float(input('請輸入身高(120~230)(cm):'))\n",
    "    if height < 120 or height > 230:\n",
    "        raise Exception('身高必須大於120同時小於230')\n",
    "    weight = float(input('請輸入體重(40~170)(kg):'))\n",
    "    if weight < 40 or weight > 170:\n",
    "        raise Exception('體重必須大於40同時小於170')\n",
    "\n",
    "    bmi = weight / (height / 100) ** 2\n",
    "    if bmi < 18.5:\n",
    "        result = '過輕'\n",
    "    elif bmi < 24:\n",
    "        result = '正常'\n",
    "    elif bmi < 27:\n",
    "        result = '過重'\n",
    "    elif bmi < 30:\n",
    "        result = '輕度肥胖'\n",
    "    elif bmi < 35:\n",
    "        result = '中度肥胖'\n",
    "    else:\n",
    "        result = '重度肥胖'\n",
    "\n",
    "    print(f'{name}, 您的BMI: {bmi:.2f}')\n",
    "    print(f'您的體重: {result}')\n",
    "\n",
    "except Exception as e:\n",
    "    print(f'錯誤: {e}')\n",
    "except SyntaxError as e:\n",
    "    print(f'語法錯誤: {e}')"
   ]
  },
  {
   "cell_type": "code",
   "execution_count": null,
   "metadata": {},
   "outputs": [],
   "source": []
  }
 ],
 "metadata": {
  "language_info": {
   "name": "python"
  }
 },
 "nbformat": 4,
 "nbformat_minor": 2
}
