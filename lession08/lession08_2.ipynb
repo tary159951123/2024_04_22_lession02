{
 "cells": [
  {
   "cell_type": "code",
   "execution_count": null,
   "metadata": {},
   "outputs": [],
   "source": [
    "def add(a,b):\n",
    "    return a + b\n",
    "\n",
    "def multiply(a,,b):\n",
    "    return a * b\n",
    "\n",
    "\n",
    "add(5,10)\n",
    "add(8,94)\n",
    "\n",
    "multiply(2,15)"
   ]
  }
 ],
 "metadata": {
  "language_info": {
   "name": "python"
  }
 },
 "nbformat": 4,
 "nbformat_minor": 2
}
