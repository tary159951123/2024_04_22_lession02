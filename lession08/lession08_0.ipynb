{
 "cells": [
  {
   "cell_type": "code",
   "execution_count": 4,
   "metadata": {},
   "outputs": [
    {
     "name": "stdout",
     "output_type": "stream",
     "text": [
      "請輸入整數,求所有因數:125\n",
      "125的因數是\n",
      "1 5 25 125 "
     ]
    }
   ],
   "source": [
    "import pyinputplus as pyip\n",
    "\n",
    "n = pyip.inputInt(\"請輸入整數,求所有因數:\", min=0)\n",
    "print(n)\n",
    "print(f\"{n}的因數是\")\n",
    "for i in range(1,n+1):\n",
    "    if n % i ==0:\n",
    "        print(i,end=' ')"
   ]
  },
  {
   "cell_type": "code",
   "execution_count": null,
   "metadata": {},
   "outputs": [],
   "source": [
    "import random\n",
    "\n",
    "min=1\n",
    "max=100\n",
    "\n",
    "target = random.randint(min,max)\n",
    "target"
   ]
  },
  {
   "cell_type": "code",
   "execution_count": null,
   "metadata": {},
   "outputs": [],
   "source": [
    "import random\n",
    "\n",
    "min=1\n",
    "max=10\n",
    "count = 0\n",
    "target = random.randint(min,max)\n",
    "print(\"==========猜字遊戲==========\\n\")\n",
    "while True:\n",
    "    count +=1\n",
    "    keyin = pyip.inputInt(f\"猜數字的範圍{min}~{max}\")\n",
    "    if keyin == target:\n",
    "        print(f\"賓果 !猜對了,  答案是{traget}\")\n",
    "        print(f\"您總共猜了{count}次\")\n",
    "        break\n",
    "    else:\n",
    "        print(\"您猜錯了\")\n",
    "    break\n",
    "\n",
    "print(\"遊戲結束\")\n",
    "\n",
    "target"
   ]
  },
  {
   "cell_type": "code",
   "execution_count": 5,
   "metadata": {},
   "outputs": [
    {
     "name": "stdout",
     "output_type": "stream",
     "text": [
      "==========猜字遊戲==========\n",
      "\n",
      "猜數字的範圍1~100再大一點\n",
      "你已經猜了1次\n",
      "猜數字的範圍16~100再小一點\n",
      "你已經猜了2次\n",
      "猜數字的範圍16~61Blank values are not allowed.\n",
      "猜數字的範圍16~61Blank values are not allowed.\n",
      "猜數字的範圍16~61再小一點\n",
      "你已經猜了3次\n",
      "猜數字的範圍16~61再小一點\n",
      "你已經猜了4次\n",
      "猜數字的範圍16~49再大一點\n",
      "你已經猜了5次\n",
      "猜數字的範圍26~49再大一點\n",
      "你已經猜了6次\n",
      "猜數字的範圍38~49再大一點\n",
      "你已經猜了7次\n",
      "猜數字的範圍45~49再大一點\n",
      "你已經猜了8次\n",
      "猜數字的範圍45~49再小一點\n",
      "你已經猜了9次\n",
      "猜數字的範圍45~46賓果 !猜對了,  答案是46\n",
      "您總共猜了10次\n",
      "遊戲結束\n"
     ]
    },
    {
     "data": {
      "text/plain": [
       "46"
      ]
     },
     "execution_count": 5,
     "metadata": {},
     "output_type": "execute_result"
    }
   ],
   "source": [
    "import random\n",
    "\n",
    "min=1\n",
    "max=100\n",
    "count = 0\n",
    "target = random.randint(min,max)\n",
    "print(\"==========猜字遊戲==========\\n\")\n",
    "while True:\n",
    "    count +=1\n",
    "    keyin = pyip.inputInt(f\"猜數字的範圍{min}~{max}\")\n",
    "    if keyin == target:\n",
    "        print(f\"賓果 !猜對了,  答案是{target}\")\n",
    "        print(f\"您總共猜了{count}次\")\n",
    "        break\n",
    "    elif(keyin > target):\n",
    "        print(\"再小一點\")\n",
    "        max = keyin-1\n",
    "    elif(keyin < target):\n",
    "        print(\"再大一點\")\n",
    "        min = keyin + 1\n",
    "    print(f'你已經猜了{count}次')\n",
    "    \n",
    "\n",
    "print(\"遊戲結束\")\n",
    "\n",
    "target"
   ]
  }
 ],
 "metadata": {
  "kernelspec": {
   "display_name": "Python 3",
   "language": "python",
   "name": "python3"
  },
  "language_info": {
   "codemirror_mode": {
    "name": "ipython",
    "version": 3
   },
   "file_extension": ".py",
   "mimetype": "text/x-python",
   "name": "python",
   "nbconvert_exporter": "python",
   "pygments_lexer": "ipython3",
   "version": "3.10.14"
  }
 },
 "nbformat": 4,
 "nbformat_minor": 2
}
